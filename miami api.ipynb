{
 "cells": [
  {
   "cell_type": "code",
   "execution_count": null,
   "id": "e2107255",
   "metadata": {},
   "outputs": [],
   "source": [
    "# To add a new cell, type '# %%'\n",
    "# To add a new markdown cell, type '# %% [markdown]'\n",
    "# %%\n",
    "from sklearn import model_selection, pipeline, preprocessing, linear_model, neighbors\n",
    "import pandas as pd\n",
    "import numpy as np\n",
    "import requests\n",
    "import json\n",
    "import os\n",
    "\n",
    "\n",
    "# %%\n",
    "data = pd.read_csv('single_family.csv')\n",
    "data\n",
    "\n",
    "\n",
    "# %%\n",
    "prices_data= {}\n",
    "url = 'https://www.miamidade.gov/Apps/PA/PApublicServiceProxy/PaServicesProxy.ashx?Operation=GetPropertySearchByFolio&clientAppName=PropertySearch&folioNumber='\n",
    "\n",
    "##\n",
    "\n",
    "counter = 0\n",
    "for folio in data['FOLIO']:\n",
    "\n",
    "    try: \n",
    "        folio_str = str.split(str(folio), '.')[0]\n",
    "        if (len(folio_str) < 13): \n",
    "            folio_str = folio_str.zfill(13)\n",
    "        temp_response = requests.get(url + folio_str)\n",
    "        temp_val = json.loads(temp_response.content)['SalesInfos']\n",
    "\n",
    "    except: \n",
    "        print(\"Error: moving onto the next value\")\n",
    "        print(counter)\n",
    "        counter+=1\n",
    "    \n",
    "    temp_dict = [[{'DateOfSale' : x['DateOfSale'], 'ReasonCode': x['ReasonCode'], 'SalePrice': x['SalePrice'], 'Description Qualification': x['QualificationDescription']}] for x in temp_val]\n",
    "    \n",
    "    print(counter)\n",
    "    counter+=1\n",
    "    prices_data[folio_str] = temp_dict\n",
    "\n",
    "\n"
   ]
  },
  {
   "cell_type": "code",
   "execution_count": null,
   "id": "8d2b9746",
   "metadata": {},
   "outputs": [],
   "source": [
    "# %%\n",
    "with open('data_load_1.txt', 'w') as convert_file:\n",
    "    convert_file.write(json.dumps(prices_data))\n",
    "# %%\n"
   ]
  },
  {
   "cell_type": "code",
   "execution_count": null,
   "id": "6452e3f7",
   "metadata": {},
   "outputs": [],
   "source": [
    "prices_data"
   ]
  },
  {
   "cell_type": "code",
   "execution_count": null,
   "id": "23d3a072",
   "metadata": {},
   "outputs": [],
   "source": [
    "print(\"s\")"
   ]
  },
  {
   "cell_type": "code",
   "execution_count": null,
   "id": "095366fa",
   "metadata": {},
   "outputs": [],
   "source": [
    "prices_data\n",
    "\n",
    "data.drop(columns =['Unnamed: 0', 'CITY', 'FOLIO', 'ADDRESS', 'UNITS'], inplace = True)\n",
    "\n",
    "\n",
    "# %%\n",
    "pd.set_option('max_columns', None)\n",
    "data\n",
    "\n",
    "\n",
    "# %%\n",
    "data.set_index('FOLIO')\n",
    "\n",
    "\n",
    "# %%\n",
    "pipeline\n",
    "\n",
    "\n",
    "# %%\n",
    "knn = sklearn.neighbors.KNeighborsRegressor\n",
    "\n",
    "\n",
    "# %%"
   ]
  }
 ],
 "metadata": {
  "kernelspec": {
   "display_name": "Python 3 (ipykernel)",
   "language": "python",
   "name": "python3"
  },
  "language_info": {
   "codemirror_mode": {
    "name": "ipython",
    "version": 3
   },
   "file_extension": ".py",
   "mimetype": "text/x-python",
   "name": "python",
   "nbconvert_exporter": "python",
   "pygments_lexer": "ipython3",
   "version": "3.9.7"
  }
 },
 "nbformat": 4,
 "nbformat_minor": 5
}
